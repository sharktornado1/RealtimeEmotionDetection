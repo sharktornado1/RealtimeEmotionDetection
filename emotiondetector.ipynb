{
 "cells": [
  {
   "cell_type": "code",
   "execution_count": 6,
   "metadata": {},
   "outputs": [],
   "source": [
    "import cv2\n",
    "import os\n",
    "import numpy as np\n",
    "import tensorflow as tf\n"
   ]
  },
  {
   "cell_type": "code",
   "execution_count": 7,
   "metadata": {},
   "outputs": [
    {
     "name": "stdout",
     "output_type": "stream",
     "text": [
      "Found 28709 files belonging to 7 classes.\n",
      "Found 7178 files belonging to 7 classes.\n"
     ]
    }
   ],
   "source": [
    "traindir = 'C:/Users/karte/OneDrive/Desktop/VIT/MLProjects/MyMLProjects/Emotion Detector/train'\n",
    "testdir = 'C:/Users/karte/OneDrive/Desktop/VIT/MLProjects/MyMLProjects/Emotion Detector/test'\n",
    "train_ds = tf.keras.utils.image_dataset_from_directory(\n",
    "  traindir\n",
    ")\n",
    "test_ds = tf.keras.utils.image_dataset_from_directory(\n",
    "  testdir\n",
    ")"
   ]
  }
 ],
 "metadata": {
  "kernelspec": {
   "display_name": "Python 3",
   "language": "python",
   "name": "python3"
  },
  "language_info": {
   "codemirror_mode": {
    "name": "ipython",
    "version": 3
   },
   "file_extension": ".py",
   "mimetype": "text/x-python",
   "name": "python",
   "nbconvert_exporter": "python",
   "pygments_lexer": "ipython3",
   "version": "3.11.4"
  },
  "orig_nbformat": 4
 },
 "nbformat": 4,
 "nbformat_minor": 2
}
