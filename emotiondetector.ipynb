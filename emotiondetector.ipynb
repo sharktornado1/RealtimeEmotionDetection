{
 "cells": [
  {
   "cell_type": "code",
   "execution_count": 10,
   "metadata": {},
   "outputs": [],
   "source": [
    "import cv2\n",
    "import os\n",
    "import numpy as np\n",
    "import tensorflow as tf"
   ]
  },
  {
   "cell_type": "code",
   "execution_count": 11,
   "metadata": {},
   "outputs": [
    {
     "name": "stdout",
     "output_type": "stream",
     "text": [
      "Found 28709 files belonging to 7 classes.\n",
      "Found 7178 files belonging to 7 classes.\n"
     ]
    }
   ],
   "source": [
    "traindir = 'C:/Users/karte/OneDrive/Desktop/VIT/MLProjects/MyMLProjects/Emotion Detector/train'\n",
    "testdir = 'C:/Users/karte/OneDrive/Desktop/VIT/MLProjects/MyMLProjects/Emotion Detector/test'\n",
    "train_ds = tf.keras.utils.image_dataset_from_directory( #Using keras library to import testing and training dataset\n",
    "  traindir,                                              #The images are already preprocessed, so im not doing any preprocessing\n",
    "  image_size=(48,48)\n",
    ")\n",
    "test_ds = tf.keras.utils.image_dataset_from_directory(\n",
    "  testdir,\n",
    "  image_size=(48,48)\n",
    ")"
   ]
  },
  {
   "cell_type": "code",
   "execution_count": 14,
   "metadata": {},
   "outputs": [
    {
     "name": "stdout",
     "output_type": "stream",
     "text": [
      "Epoch 1/10\n",
      "898/898 [==============================] - 24s 26ms/step - loss: 2.0939 - accuracy: 0.2348 - val_loss: 1.7882 - val_accuracy: 0.2686\n",
      "Epoch 2/10\n",
      "898/898 [==============================] - 23s 25ms/step - loss: 1.7363 - accuracy: 0.3101 - val_loss: 1.6850 - val_accuracy: 0.3353\n",
      "Epoch 3/10\n",
      "898/898 [==============================] - 24s 26ms/step - loss: 1.6525 - accuracy: 0.3477 - val_loss: 1.6230 - val_accuracy: 0.3618\n",
      "Epoch 4/10\n",
      "898/898 [==============================] - 24s 26ms/step - loss: 1.5997 - accuracy: 0.3733 - val_loss: 1.5974 - val_accuracy: 0.3731\n",
      "Epoch 5/10\n",
      "898/898 [==============================] - 25s 28ms/step - loss: 1.5616 - accuracy: 0.3891 - val_loss: 1.5610 - val_accuracy: 0.3979\n",
      "Epoch 6/10\n",
      "898/898 [==============================] - 25s 27ms/step - loss: 1.5237 - accuracy: 0.4035 - val_loss: 1.5506 - val_accuracy: 0.4019\n",
      "Epoch 7/10\n",
      "898/898 [==============================] - 24s 27ms/step - loss: 1.4878 - accuracy: 0.4211 - val_loss: 1.5014 - val_accuracy: 0.4253\n",
      "Epoch 8/10\n",
      "898/898 [==============================] - 25s 28ms/step - loss: 1.4654 - accuracy: 0.4343 - val_loss: 1.4986 - val_accuracy: 0.4218\n",
      "Epoch 9/10\n",
      "898/898 [==============================] - 25s 27ms/step - loss: 1.4384 - accuracy: 0.4454 - val_loss: 1.4930 - val_accuracy: 0.4345\n",
      "Epoch 10/10\n",
      "898/898 [==============================] - 24s 26ms/step - loss: 1.4163 - accuracy: 0.4570 - val_loss: 1.4745 - val_accuracy: 0.4400\n"
     ]
    }
   ],
   "source": [
    "model = tf.keras.Sequential([\n",
    "    tf.keras.layers.Conv2D(16,(3,3),activation='relu',input_shape=(48,48,3)), \n",
    "    tf.keras.layers.MaxPooling2D((2,2)),\n",
    "    tf.keras.layers.Conv2D(16,(3,3),activation='relu'),\n",
    "    tf.keras.layers.MaxPooling2D((2,2)),\n",
    "    tf.keras.layers.Conv2D(16,(3,3),activation='relu'),\n",
    "    tf.keras.layers.MaxPooling2D((2,2)),\n",
    "    tf.keras.layers.Flatten(),\n",
    "    tf.keras.layers.Dense(64, activation='relu'),\n",
    "    tf.keras.layers.Dense(7)\n",
    "]\n",
    ")\n",
    "model.compile(optimizer='adam',loss=tf.keras.losses.SparseCategoricalCrossentropy(from_logits=True),metrics=['accuracy'])\n",
    "mymodel = model.fit(train_ds,validation_data=test_ds,epochs=10)"
   ]
  }
 ],
 "metadata": {
  "kernelspec": {
   "display_name": "Python 3",
   "language": "python",
   "name": "python3"
  },
  "language_info": {
   "codemirror_mode": {
    "name": "ipython",
    "version": 3
   },
   "file_extension": ".py",
   "mimetype": "text/x-python",
   "name": "python",
   "nbconvert_exporter": "python",
   "pygments_lexer": "ipython3",
   "version": "3.11.4"
  },
  "orig_nbformat": 4
 },
 "nbformat": 4,
 "nbformat_minor": 2
}
