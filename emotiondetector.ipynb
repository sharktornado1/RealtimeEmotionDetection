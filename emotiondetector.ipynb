{
 "cells": [
  {
   "cell_type": "code",
   "execution_count": 3,
   "metadata": {},
   "outputs": [],
   "source": [
    "import cv2\n",
    "import os\n",
    "import numpy as np\n",
    "import tensorflow as tf"
   ]
  },
  {
   "cell_type": "code",
   "execution_count": 6,
   "metadata": {},
   "outputs": [
    {
     "name": "stdout",
     "output_type": "stream",
     "text": [
      "Found 28709 files belonging to 7 classes.\n",
      "Found 7178 files belonging to 7 classes.\n"
     ]
    }
   ],
   "source": [
    "traindir = 'C:/Users/karte/OneDrive/Desktop/VIT/MLProjects/MyMLProjects/Emotion Detector/train'\n",
    "testdir = 'C:/Users/karte/OneDrive/Desktop/VIT/MLProjects/MyMLProjects/Emotion Detector/test'\n",
    "train_ds = tf.keras.utils.image_dataset_from_directory( #Using keras library to import testing and training dataset\n",
    "  traindir,                                              #The images are already preprocessed, so im not doing any preprocessing\n",
    "  image_size=(48,48)\n",
    ")\n",
    "test_ds = tf.keras.utils.image_dataset_from_directory(\n",
    "  testdir,\n",
    "  image_size=(48,48)\n",
    ")\n",
    "normalization_layer = tf.keras.layers.Rescaling(1.0 / 255.0)"
   ]
  },
  {
   "cell_type": "code",
   "execution_count": 4,
   "metadata": {},
   "outputs": [
    {
     "name": "stdout",
     "output_type": "stream",
     "text": [
      "Epoch 1/20\n",
      "898/898 [==============================] - 28s 30ms/step - loss: 1.6313 - accuracy: 0.3556 - val_loss: 1.5156 - val_accuracy: 0.4166\n",
      "Epoch 2/20\n",
      "898/898 [==============================] - 28s 31ms/step - loss: 1.4104 - accuracy: 0.4590 - val_loss: 1.3567 - val_accuracy: 0.4809\n",
      "Epoch 3/20\n",
      "898/898 [==============================] - 30s 33ms/step - loss: 1.3153 - accuracy: 0.4996 - val_loss: 1.3101 - val_accuracy: 0.4987\n",
      "Epoch 4/20\n",
      "898/898 [==============================] - 29s 33ms/step - loss: 1.2469 - accuracy: 0.5255 - val_loss: 1.3041 - val_accuracy: 0.4965\n",
      "Epoch 5/20\n",
      "898/898 [==============================] - 29s 32ms/step - loss: 1.1838 - accuracy: 0.5493 - val_loss: 1.2686 - val_accuracy: 0.5071\n",
      "Epoch 6/20\n",
      "898/898 [==============================] - 27s 30ms/step - loss: 1.1332 - accuracy: 0.5720 - val_loss: 1.2648 - val_accuracy: 0.5103\n",
      "Epoch 7/20\n",
      "898/898 [==============================] - 27s 30ms/step - loss: 1.0842 - accuracy: 0.5920 - val_loss: 1.2573 - val_accuracy: 0.5230\n",
      "Epoch 8/20\n",
      "898/898 [==============================] - 27s 30ms/step - loss: 1.0346 - accuracy: 0.6132 - val_loss: 1.2898 - val_accuracy: 0.5198\n",
      "Epoch 9/20\n",
      "898/898 [==============================] - 27s 30ms/step - loss: 0.9859 - accuracy: 0.6321 - val_loss: 1.2921 - val_accuracy: 0.5291\n",
      "Epoch 10/20\n",
      "898/898 [==============================] - 27s 30ms/step - loss: 0.9481 - accuracy: 0.6483 - val_loss: 1.3087 - val_accuracy: 0.5245\n",
      "Epoch 11/20\n",
      "898/898 [==============================] - 27s 30ms/step - loss: 0.9032 - accuracy: 0.6645 - val_loss: 1.3426 - val_accuracy: 0.5266\n",
      "Epoch 12/20\n",
      "898/898 [==============================] - 27s 30ms/step - loss: 0.8567 - accuracy: 0.6817 - val_loss: 1.3937 - val_accuracy: 0.5189\n",
      "Epoch 13/20\n",
      "898/898 [==============================] - 27s 30ms/step - loss: 0.8159 - accuracy: 0.6997 - val_loss: 1.4428 - val_accuracy: 0.5201\n",
      "Epoch 14/20\n",
      "898/898 [==============================] - 27s 30ms/step - loss: 0.7831 - accuracy: 0.7122 - val_loss: 1.4828 - val_accuracy: 0.5217\n",
      "Epoch 15/20\n",
      "898/898 [==============================] - 27s 30ms/step - loss: 0.7406 - accuracy: 0.7275 - val_loss: 1.5515 - val_accuracy: 0.5109\n",
      "Epoch 16/20\n",
      "898/898 [==============================] - 27s 30ms/step - loss: 0.6987 - accuracy: 0.7442 - val_loss: 1.6577 - val_accuracy: 0.5086\n",
      "Epoch 17/20\n",
      "898/898 [==============================] - 28s 31ms/step - loss: 0.6670 - accuracy: 0.7560 - val_loss: 1.6767 - val_accuracy: 0.5103\n",
      "Epoch 18/20\n",
      "898/898 [==============================] - 28s 31ms/step - loss: 0.6294 - accuracy: 0.7707 - val_loss: 1.7411 - val_accuracy: 0.5148\n",
      "Epoch 19/20\n",
      "898/898 [==============================] - 27s 30ms/step - loss: 0.5967 - accuracy: 0.7810 - val_loss: 1.8542 - val_accuracy: 0.5152\n",
      "Epoch 20/20\n",
      "898/898 [==============================] - 28s 31ms/step - loss: 0.5688 - accuracy: 0.7929 - val_loss: 1.9612 - val_accuracy: 0.5089\n"
     ]
    }
   ],
   "source": [
    "model = tf.keras.Sequential([\n",
    "    normalization_layer,\n",
    "    tf.keras.layers.Conv2D(16,(3,3),activation='relu',input_shape=(48,48,3)), \n",
    "    tf.keras.layers.MaxPooling2D((2,2)),\n",
    "    tf.keras.layers.Conv2D(32,(3,3),activation='relu'),\n",
    "    tf.keras.layers.MaxPooling2D((2,2)),\n",
    "    tf.keras.layers.Conv2D(32,(3,3),activation='relu'),\n",
    "    tf.keras.layers.MaxPooling2D((2,2)),\n",
    "    tf.keras.layers.Flatten(),\n",
    "    tf.keras.layers.Dense(128, activation='relu'),\n",
    "    tf.keras.layers.Dense(7)\n",
    "]\n",
    ")\n",
    "model.compile(optimizer='adam',loss=tf.keras.losses.SparseCategoricalCrossentropy(from_logits=True),metrics=['accuracy'])\n",
    "mymodel = model.fit(train_ds,validation_data=test_ds,epochs=20)"
   ]
  },
  {
   "cell_type": "code",
   "execution_count": 2,
   "metadata": {},
   "outputs": [
    {
     "ename": "NameError",
     "evalue": "name 'model' is not defined",
     "output_type": "error",
     "traceback": [
      "\u001b[1;31m---------------------------------------------------------------------------\u001b[0m",
      "\u001b[1;31mNameError\u001b[0m                                 Traceback (most recent call last)",
      "Cell \u001b[1;32mIn[2], line 1\u001b[0m\n\u001b[1;32m----> 1\u001b[0m model\u001b[39m.\u001b[39msave(\u001b[39m'\u001b[39m\u001b[39m./Saved Models/mymodel\u001b[39m\u001b[39m'\u001b[39m)\n",
      "\u001b[1;31mNameError\u001b[0m: name 'model' is not defined"
     ]
    }
   ],
   "source": [
    "model.save('./Saved Models/mymodel')"
   ]
  },
  {
   "cell_type": "code",
   "execution_count": 4,
   "metadata": {},
   "outputs": [],
   "source": [
    "model = tf.keras.models.load_model('./Saved Models/mymodel')"
   ]
  },
  {
   "cell_type": "code",
   "execution_count": 9,
   "metadata": {},
   "outputs": [
    {
     "name": "stdout",
     "output_type": "stream",
     "text": [
      "1/1 [==============================] - 0s 25ms/step\n",
      "sad\n",
      "Class Probabilities: [ 1.5189804 -2.681486   1.9173869 -3.9475846 -1.8220094  2.388909\n",
      " -7.4990273]\n"
     ]
    }
   ],
   "source": [
    "import cv2 #the library used for image processing\n",
    "import numpy as np\n",
    "image = cv2.imread('im84.png')\n",
    "resized_image = cv2.resize(image, (48, 48))  # Resize to match the input shape of your model\n",
    "#normalized_image = resized_image / 255.0  # Normalize pixel values to the range of [0, 1]\n",
    "preprocessed_image = np.expand_dims(resized_image, axis=0)  # Add an extra dimension for batch size (assuming single image) - idk\n",
    "# Make a prediction\n",
    "predictions = model.predict(preprocessed_image)\n",
    "\n",
    "# Interpret the results\n",
    "predicted_class = np.argmax(predictions)  # Get the index of the class with the highest probability\n",
    "class_probabilities = predictions[0]  # Probability distribution across all classes\n",
    "print(test_ds.class_names[predicted_class])\n",
    "print(f\"Class Probabilities: {class_probabilities}\")"
   ]
  }
 ],
 "metadata": {
  "kernelspec": {
   "display_name": "Python 3",
   "language": "python",
   "name": "python3"
  },
  "language_info": {
   "codemirror_mode": {
    "name": "ipython",
    "version": 3
   },
   "file_extension": ".py",
   "mimetype": "text/x-python",
   "name": "python",
   "nbconvert_exporter": "python",
   "pygments_lexer": "ipython3",
   "version": "3.11.4"
  },
  "orig_nbformat": 4
 },
 "nbformat": 4,
 "nbformat_minor": 2
}
