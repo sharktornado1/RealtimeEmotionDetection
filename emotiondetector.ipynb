{
 "cells": [
  {
   "cell_type": "code",
   "execution_count": 5,
   "metadata": {},
   "outputs": [],
   "source": [
    "import cv2\n",
    "import os\n",
    "import numpy as np\n",
    "import tensorflow as tf"
   ]
  },
  {
   "cell_type": "code",
   "execution_count": 6,
   "metadata": {},
   "outputs": [
    {
     "name": "stdout",
     "output_type": "stream",
     "text": [
      "Found 28709 files belonging to 7 classes.\n",
      "Found 7178 files belonging to 7 classes.\n"
     ]
    }
   ],
   "source": [
    "traindir = 'C:/Users/karte/OneDrive/Desktop/VIT/MLProjects/MyMLProjects/Emotion Detector/train'\n",
    "testdir = 'C:/Users/karte/OneDrive/Desktop/VIT/MLProjects/MyMLProjects/Emotion Detector/test'\n",
    "train_ds = tf.keras.utils.image_dataset_from_directory( #Using keras library to import testing and training dataset\n",
    "  traindir,                                              #The images are already preprocessed, so im not doing any preprocessing\n",
    "  image_size=(48,48)\n",
    ")\n",
    "test_ds = tf.keras.utils.image_dataset_from_directory(\n",
    "  testdir,\n",
    "  image_size=(48,48)\n",
    ")"
   ]
  },
  {
   "cell_type": "code",
   "execution_count": 17,
   "metadata": {},
   "outputs": [
    {
     "name": "stdout",
     "output_type": "stream",
     "text": [
      "Epoch 1/20\n",
      "898/898 [==============================] - 31s 34ms/step - loss: 2.2341 - accuracy: 0.2484 - val_loss: 1.7955 - val_accuracy: 0.2566\n",
      "Epoch 2/20\n",
      "898/898 [==============================] - 31s 34ms/step - loss: 1.7437 - accuracy: 0.2939 - val_loss: 1.7342 - val_accuracy: 0.2881\n",
      "Epoch 3/20\n",
      "898/898 [==============================] - 31s 34ms/step - loss: 1.6816 - accuracy: 0.3267 - val_loss: 1.6550 - val_accuracy: 0.3444\n",
      "Epoch 4/20\n",
      "898/898 [==============================] - 30s 33ms/step - loss: 1.6390 - accuracy: 0.3530 - val_loss: 1.6154 - val_accuracy: 0.3709\n",
      "Epoch 5/20\n",
      "898/898 [==============================] - 30s 34ms/step - loss: 1.5974 - accuracy: 0.3743 - val_loss: 1.5963 - val_accuracy: 0.3787\n",
      "Epoch 6/20\n",
      "898/898 [==============================] - 31s 35ms/step - loss: 1.5563 - accuracy: 0.3972 - val_loss: 1.5541 - val_accuracy: 0.4074\n",
      "Epoch 7/20\n",
      "898/898 [==============================] - 31s 34ms/step - loss: 1.5139 - accuracy: 0.4130 - val_loss: 1.5315 - val_accuracy: 0.4132\n",
      "Epoch 8/20\n",
      "898/898 [==============================] - 32s 35ms/step - loss: 1.4791 - accuracy: 0.4303 - val_loss: 1.5234 - val_accuracy: 0.4139\n",
      "Epoch 9/20\n",
      "898/898 [==============================] - 31s 35ms/step - loss: 1.4484 - accuracy: 0.4415 - val_loss: 1.4966 - val_accuracy: 0.4344\n",
      "Epoch 10/20\n",
      "898/898 [==============================] - 30s 33ms/step - loss: 1.4196 - accuracy: 0.4531 - val_loss: 1.5013 - val_accuracy: 0.4379\n",
      "Epoch 11/20\n",
      "898/898 [==============================] - 31s 35ms/step - loss: 1.3925 - accuracy: 0.4664 - val_loss: 1.5192 - val_accuracy: 0.4361\n",
      "Epoch 12/20\n",
      "898/898 [==============================] - 32s 35ms/step - loss: 1.3617 - accuracy: 0.4772 - val_loss: 1.5292 - val_accuracy: 0.4333\n",
      "Epoch 13/20\n",
      "898/898 [==============================] - 30s 33ms/step - loss: 1.3430 - accuracy: 0.4863 - val_loss: 1.5267 - val_accuracy: 0.4390\n",
      "Epoch 14/20\n",
      "898/898 [==============================] - 33s 36ms/step - loss: 1.3085 - accuracy: 0.4996 - val_loss: 1.5225 - val_accuracy: 0.4361\n",
      "Epoch 15/20\n",
      "898/898 [==============================] - 30s 34ms/step - loss: 1.2818 - accuracy: 0.5124 - val_loss: 1.5722 - val_accuracy: 0.4348\n",
      "Epoch 16/20\n",
      "898/898 [==============================] - 30s 33ms/step - loss: 1.2553 - accuracy: 0.5238 - val_loss: 1.5464 - val_accuracy: 0.4440\n",
      "Epoch 17/20\n",
      "898/898 [==============================] - 31s 34ms/step - loss: 1.2140 - accuracy: 0.5377 - val_loss: 1.6704 - val_accuracy: 0.4305\n",
      "Epoch 18/20\n",
      "898/898 [==============================] - 31s 35ms/step - loss: 1.1946 - accuracy: 0.5490 - val_loss: 1.5952 - val_accuracy: 0.4439\n",
      "Epoch 19/20\n",
      "898/898 [==============================] - 30s 34ms/step - loss: 1.1651 - accuracy: 0.5571 - val_loss: 1.6793 - val_accuracy: 0.4341\n",
      "Epoch 20/20\n",
      "898/898 [==============================] - 30s 34ms/step - loss: 1.1384 - accuracy: 0.5675 - val_loss: 1.7970 - val_accuracy: 0.4270\n"
     ]
    }
   ],
   "source": [
    "model = tf.keras.Sequential([\n",
    "    tf.keras.layers.Conv2D(16,(3,3),activation='relu',input_shape=(48,48,3)), \n",
    "    tf.keras.layers.MaxPooling2D((2,2)),\n",
    "    tf.keras.layers.Conv2D(32,(3,3),activation='relu'),\n",
    "    tf.keras.layers.MaxPooling2D((2,2)),\n",
    "    tf.keras.layers.Conv2D(32,(3,3),activation='relu'),\n",
    "    tf.keras.layers.MaxPooling2D((2,2)),\n",
    "    tf.keras.layers.Flatten(),\n",
    "    tf.keras.layers.Dense(128, activation='relu'),\n",
    "    tf.keras.layers.Dense(7)\n",
    "]\n",
    ")\n",
    "model.compile(optimizer='adam',loss=tf.keras.losses.SparseCategoricalCrossentropy(from_logits=True),metrics=['accuracy'])\n",
    "mymodel = model.fit(train_ds,validation_data=test_ds,epochs=20)"
   ]
  },
  {
   "cell_type": "code",
   "execution_count": 8,
   "metadata": {},
   "outputs": [
    {
     "name": "stdout",
     "output_type": "stream",
     "text": [
      "INFO:tensorflow:Assets written to: ./Saved Models/mymodel\\assets\n"
     ]
    },
    {
     "name": "stderr",
     "output_type": "stream",
     "text": [
      "INFO:tensorflow:Assets written to: ./Saved Models/mymodel\\assets\n"
     ]
    }
   ],
   "source": [
    "model.save('./Saved Models/mymodel')"
   ]
  },
  {
   "cell_type": "code",
   "execution_count": 21,
   "metadata": {},
   "outputs": [],
   "source": [
    "model = tf.keras.models.load_model('./Saved Models/mymodel')"
   ]
  },
  {
   "cell_type": "code",
   "execution_count": null,
   "metadata": {},
   "outputs": [],
   "source": []
  }
 ],
 "metadata": {
  "kernelspec": {
   "display_name": "Python 3",
   "language": "python",
   "name": "python3"
  },
  "language_info": {
   "codemirror_mode": {
    "name": "ipython",
    "version": 3
   },
   "file_extension": ".py",
   "mimetype": "text/x-python",
   "name": "python",
   "nbconvert_exporter": "python",
   "pygments_lexer": "ipython3",
   "version": "3.11.4"
  },
  "orig_nbformat": 4
 },
 "nbformat": 4,
 "nbformat_minor": 2
}
